{
 "cells": [
  {
   "cell_type": "code",
   "execution_count": 30,
   "id": "ef1b3cd8",
   "metadata": {},
   "outputs": [],
   "source": [
    "operations = {\n",
    "    '*': lambda a, b: a * b,\n",
    "    '+': lambda a, b: a + b,\n",
    "    '-': lambda a, b: a - b,\n",
    "    '/': lambda a, b: a // b,\n",
    "    '^': lambda a, b: a ** b,\n",
    "}"
   ]
  },
  {
   "cell_type": "code",
   "execution_count": 38,
   "id": "3ec8ae83",
   "metadata": {},
   "outputs": [
    {
     "ename": "SyntaxError",
     "evalue": "invalid syntax (<ipython-input-38-85f127afb9c8>, line 2)",
     "output_type": "error",
     "traceback": [
      "\u001b[0;36m  File \u001b[0;32m\"<ipython-input-38-85f127afb9c8>\"\u001b[0;36m, line \u001b[0;32m2\u001b[0m\n\u001b[0;31m    if operator == '+', '-', '*',\"/\",\"^\":\u001b[0m\n\u001b[0m                      ^\u001b[0m\n\u001b[0;31mSyntaxError\u001b[0m\u001b[0;31m:\u001b[0m invalid syntax\n"
     ]
    }
   ],
   "source": [
    "operator = input(f\"please choose: +, - , *, /, ^: \")\n"
   ]
  },
  {
   "cell_type": "code",
   "execution_count": 35,
   "id": "01c5fe17",
   "metadata": {},
   "outputs": [
    {
     "name": "stdout",
     "output_type": "stream",
     "text": [
      "first value =5\n"
     ]
    }
   ],
   "source": [
    "a = int(input(f\"first value =\"))"
   ]
  },
  {
   "cell_type": "code",
   "execution_count": 36,
   "id": "e1644cee",
   "metadata": {},
   "outputs": [
    {
     "name": "stdout",
     "output_type": "stream",
     "text": [
      "second value=7\n"
     ]
    }
   ],
   "source": [
    "b = int(input(f\"second value=\"))"
   ]
  },
  {
   "cell_type": "code",
   "execution_count": 37,
   "id": "34548975",
   "metadata": {},
   "outputs": [
    {
     "name": "stdout",
     "output_type": "stream",
     "text": [
      "12\n"
     ]
    }
   ],
   "source": [
    "result = operations[operator](a,b)\n",
    "print(result)"
   ]
  },
  {
   "cell_type": "code",
   "execution_count": null,
   "id": "b7f92843",
   "metadata": {},
   "outputs": [],
   "source": []
  }
 ],
 "metadata": {
  "kernelspec": {
   "display_name": "Python 3",
   "language": "python",
   "name": "python3"
  },
  "language_info": {
   "codemirror_mode": {
    "name": "ipython",
    "version": 3
   },
   "file_extension": ".py",
   "mimetype": "text/x-python",
   "name": "python",
   "nbconvert_exporter": "python",
   "pygments_lexer": "ipython3",
   "version": "3.8.5"
  }
 },
 "nbformat": 4,
 "nbformat_minor": 5
}
