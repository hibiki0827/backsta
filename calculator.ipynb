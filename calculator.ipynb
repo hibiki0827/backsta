{
 "cells": [
  {
   "cell_type": "markdown",
   "id": "8e5adb5e",
   "metadata": {},
   "source": [
    "## calculator\n",
    "\n",
    "Summerterm 2021\n"
   ]
  },
  {
   "cell_type": "markdown",
   "id": "f88d9c59",
   "metadata": {},
   "source": [
    "#### import"
   ]
  },
  {
   "cell_type": "code",
   "execution_count": 1,
   "id": "7bddf89a",
   "metadata": {},
   "outputs": [
    {
     "name": "stdout",
     "output_type": "stream",
     "text": [
      "import... \n",
      "\n",
      "done\n"
     ]
    }
   ],
   "source": [
    "print(\"import...\",\"\\n\")\n",
    "import math\n",
    "print(\"done\")\n"
   ]
  },
  {
   "cell_type": "markdown",
   "id": "9fe02814",
   "metadata": {},
   "source": [
    "#### define class"
   ]
  },
  {
   "cell_type": "code",
   "execution_count": 2,
   "id": "e2f1d423",
   "metadata": {},
   "outputs": [],
   "source": [
    "class calculator:\n",
    "    \n",
    "    def __init__(self, operations,a,b):\n",
    "        self.operations = operations\n",
    "        self.a = a\n",
    "        self.b = b\n",
    "    \n",
    "    \n",
    "    def runcalc(a=0.0,b=0.0,operator='+'):\n",
    "        '''calculates with two operants and one operator'''\n",
    "        operations = {\n",
    "            '*': lambda a, b: a * b,\n",
    "            '+': lambda a, b: a + b,\n",
    "            '-': lambda a, b: a - b,\n",
    "            '/': lambda a, b: a // b,\n",
    "            '^': lambda a, b: a ** b,\n",
    "            'sqrt': lambda a : math.sqrt(a)\n",
    "        }\n",
    "        if (operator == '/' and b == 0):\n",
    "            result = \"you cannot divide by zero\"\n",
    "            return result\n",
    "        elif operator == 'sqrt':\n",
    "            result = operations['sqrt'](a)\n",
    "            return result\n",
    "        else:\n",
    "            result = operations[operator](a,b)\n",
    "        return result\n",
    "    \n",
    "            \n",
    "    "
   ]
  },
  {
   "cell_type": "markdown",
   "id": "73e95941",
   "metadata": {},
   "source": [
    "#### interactive version"
   ]
  },
  {
   "cell_type": "code",
   "execution_count": 3,
   "id": "38812029",
   "metadata": {},
   "outputs": [
    {
     "name": "stdout",
     "output_type": "stream",
     "text": [
      "please choose: +, - , *, /, ^,sqrt: /\n",
      "your choice:  /\n"
     ]
    }
   ],
   "source": [
    "while True:\n",
    "    operator = str(input(f\"please choose: +, - , *, /, ^,sqrt: \"))\n",
    "    if operator=='+' or operator=='-'or operator=='*'or operator=='/'or operator=='^' or operator=='sqrt':\n",
    "        print(\"your choice: \", operator)\n",
    "        break\n",
    "    else:\n",
    "        print(\"invalid input, take care that you don't have any spaces\")\n",
    "        continue\n",
    "    \n"
   ]
  },
  {
   "cell_type": "code",
   "execution_count": 4,
   "id": "2d2ace7d",
   "metadata": {},
   "outputs": [
    {
     "name": "stdout",
     "output_type": "stream",
     "text": [
      "first value = a\n",
      "please write a number\n",
      "first value = 4\n"
     ]
    }
   ],
   "source": [
    "\n",
    "\n",
    "while True:\n",
    "    a = input(f\"first value = \")\n",
    "    try:\n",
    "        val = float(a)\n",
    "        break\n",
    "    except ValueError:\n",
    "        print(\"please write a number\")\n",
    "        continue\n",
    "        \n",
    "a = float(a)\n",
    "            "
   ]
  },
  {
   "cell_type": "code",
   "execution_count": 48,
   "id": "7a9e3ee7",
   "metadata": {},
   "outputs": [
    {
     "name": "stdout",
     "output_type": "stream",
     "text": [
      "second value = 0\n",
      "you cannot divide by zero\n",
      "second value = f\n",
      "please write a number\n",
      "second value = 2\n"
     ]
    }
   ],
   "source": [
    "if operator == \"sqrt\":\n",
    "    print(\"you don't need a second value\")\n",
    "    b = 0\n",
    "else:\n",
    "    while True:\n",
    "        b = input(f\"second value = \")\n",
    "        try:\n",
    "            val = float(b)\n",
    "            break\n",
    "        except ValueError:\n",
    "            print(\"please write a number\")\n",
    "        continue\n",
    "    b = float(b)\n",
    "while True: \n",
    "    if (operator == '/' and b == 0):\n",
    "        print(\"you cannot divide by zero\")\n",
    "        b = input(f\"second value = \")\n",
    "        while True:\n",
    "            try:\n",
    "                val = float(b)\n",
    "                break\n",
    "            except ValueError:\n",
    "                print(\"please write a number\")\n",
    "                b = input(f\"second value = \")\n",
    "                continue\n",
    "    else: \n",
    "        break\n",
    "    b = float(b)\n",
    "\n",
    "\n",
    "\n",
    "\n",
    "                \n",
    "\n",
    "            "
   ]
  },
  {
   "cell_type": "code",
   "execution_count": 46,
   "id": "db4b9037",
   "metadata": {},
   "outputs": [
    {
     "name": "stdout",
     "output_type": "stream",
     "text": [
      "4.0   /   2.0  =  2.0\n"
     ]
    }
   ],
   "source": [
    "result = calculator.runcalc(a,b,operator)\n",
    "\n",
    "print(\"square root of \",a,\" is: \", result) if operator =='sqrt' else print(a,\" \",operator, \" \", b, \" = \",result)"
   ]
  },
  {
   "cell_type": "markdown",
   "id": "f31f7048",
   "metadata": {},
   "source": [
    "#### or non-interactive"
   ]
  },
  {
   "cell_type": "code",
   "execution_count": 245,
   "id": "f9888244",
   "metadata": {},
   "outputs": [
    {
     "data": {
      "text/plain": [
       "1"
      ]
     },
     "execution_count": 245,
     "metadata": {},
     "output_type": "execute_result"
    }
   ],
   "source": [
    "calculator.runcalc(3,3,'/')"
   ]
  },
  {
   "cell_type": "code",
   "execution_count": null,
   "id": "ebb0c8db",
   "metadata": {},
   "outputs": [],
   "source": []
  }
 ],
 "metadata": {
  "kernelspec": {
   "display_name": "Python 3",
   "language": "python",
   "name": "python3"
  },
  "language_info": {
   "codemirror_mode": {
    "name": "ipython",
    "version": 3
   },
   "file_extension": ".py",
   "mimetype": "text/x-python",
   "name": "python",
   "nbconvert_exporter": "python",
   "pygments_lexer": "ipython3",
   "version": "3.8.5"
  }
 },
 "nbformat": 4,
 "nbformat_minor": 5
}
