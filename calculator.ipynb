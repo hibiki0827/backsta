{
 "cells": [
  {
   "cell_type": "markdown",
   "id": "485ea7eb",
   "metadata": {},
   "source": [
    "## calculator\n",
    "\n",
    "Summerterm 2021\n"
   ]
  },
  {
   "cell_type": "markdown",
   "id": "b1fdcb6e",
   "metadata": {},
   "source": [
    "#### import"
   ]
  },
  {
   "cell_type": "code",
   "execution_count": 153,
   "id": "7bddf89a",
   "metadata": {},
   "outputs": [
    {
     "name": "stdout",
     "output_type": "stream",
     "text": [
      "import... \n",
      "\n",
      "done\n"
     ]
    }
   ],
   "source": [
    "print(\"import...\",\"\\n\")\n",
    "import math\n",
    "print(\"done\")"
   ]
  },
  {
   "cell_type": "markdown",
   "id": "4bfd5701",
   "metadata": {},
   "source": [
    "#### define class"
   ]
  },
  {
   "cell_type": "code",
   "execution_count": 154,
   "id": "e2f1d423",
   "metadata": {},
   "outputs": [],
   "source": [
    "class calculator:\n",
    "    \n",
    "    def __init__(self, operations,a,b):\n",
    "        self.operations = operations\n",
    "        self.a = a\n",
    "        self.b = b\n",
    "    \n",
    "    \n",
    "    def runcalc(a=0,b=0,operator='+'):\n",
    "        '''calculates with two operants and one operator'''\n",
    "        operations = {\n",
    "            '*': lambda a, b: a * b,\n",
    "            '+': lambda a, b: a + b,\n",
    "            '-': lambda a, b: a - b,\n",
    "            '/': lambda a, b: a // b,\n",
    "            '^': lambda a, b: a ** b,\n",
    "            'sqrt': lambda a : math.sqrt(a)\n",
    "        }\n",
    "        if (operator == '/' and b == 0):\n",
    "            result = \"you cannot divide by zero\"\n",
    "        elif operator == 'sqrt':\n",
    "            result = operations[operator](a)\n",
    "        else:\n",
    "            result = operations[operator](a,b)\n",
    "        return result\n",
    "    "
   ]
  },
  {
   "cell_type": "markdown",
   "id": "0024b207",
   "metadata": {},
   "source": [
    "#### interactive version"
   ]
  },
  {
   "cell_type": "code",
   "execution_count": 155,
   "id": "38812029",
   "metadata": {},
   "outputs": [
    {
     "name": "stdout",
     "output_type": "stream",
     "text": [
      "please choose: +, - , *, /, ^,sqrt: /\n",
      "your choice /\n"
     ]
    }
   ],
   "source": [
    "operator = input(f\"please choose: +, - , *, /, ^,sqrt: \")\n",
    "print(\"your choice\", operator)\n"
   ]
  },
  {
   "cell_type": "code",
   "execution_count": 156,
   "id": "2d2ace7d",
   "metadata": {},
   "outputs": [
    {
     "name": "stdout",
     "output_type": "stream",
     "text": [
      "first value = 9\n"
     ]
    }
   ],
   "source": [
    "a = int(input(f\"first value = \"))"
   ]
  },
  {
   "cell_type": "code",
   "execution_count": 157,
   "id": "7a9e3ee7",
   "metadata": {},
   "outputs": [
    {
     "name": "stdout",
     "output_type": "stream",
     "text": [
      "second value = 0\n",
      "you cannot divide by zero\n",
      "second value = 0\n",
      "you cannot divide by zero\n",
      "second value = 3\n"
     ]
    }
   ],
   "source": [
    "if operator == \"sqrt\":\n",
    "    print(\"you don't need a second value\")\n",
    "else:\n",
    "    b = int(input(f\"second value = \"))\n",
    "    if (operator == '/' and b == 0):\n",
    "        while b == 0:\n",
    "            print(\"you cannot divide by zero\")\n",
    "            b = int(input(f\"second value = \"))"
   ]
  },
  {
   "cell_type": "code",
   "execution_count": 158,
   "id": "4e875754",
   "metadata": {},
   "outputs": [
    {
     "name": "stdout",
     "output_type": "stream",
     "text": [
      "9   /   3  =  3\n"
     ]
    }
   ],
   "source": [
    "calculator.runcalc(a,b,operator)\n",
    "print(a,\" \",operator, \" \", b, \" = \",result)"
   ]
  },
  {
   "cell_type": "markdown",
   "id": "49824875",
   "metadata": {},
   "source": [
    "#### or non-interactive"
   ]
  },
  {
   "cell_type": "code",
   "execution_count": 159,
   "id": "f9888244",
   "metadata": {},
   "outputs": [
    {
     "data": {
      "text/plain": [
       "2.0"
      ]
     },
     "execution_count": 159,
     "metadata": {},
     "output_type": "execute_result"
    }
   ],
   "source": [
    "calculator.runcalc(4,b,'sqrt')"
   ]
  },
  {
   "cell_type": "code",
   "execution_count": null,
   "id": "ab49dfee",
   "metadata": {},
   "outputs": [],
   "source": []
  }
 ],
 "metadata": {
  "kernelspec": {
   "display_name": "Python 3",
   "language": "python",
   "name": "python3"
  },
  "language_info": {
   "codemirror_mode": {
    "name": "ipython",
    "version": 3
   },
   "file_extension": ".py",
   "mimetype": "text/x-python",
   "name": "python",
   "nbconvert_exporter": "python",
   "pygments_lexer": "ipython3",
   "version": "3.8.5"
  }
 },
 "nbformat": 4,
 "nbformat_minor": 5
}
