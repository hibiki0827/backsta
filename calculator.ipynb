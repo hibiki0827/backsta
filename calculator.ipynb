{
 "cells": [
  {
   "cell_type": "code",
   "execution_count": null,
   "id": "5eb07712",
   "metadata": {},
   "outputs": [],
   "source": [
    "## calculator"
   ]
  },
  {
   "cell_type": "code",
   "execution_count": 62,
   "id": "2eae1267",
   "metadata": {},
   "outputs": [],
   "source": [
    "import math"
   ]
  },
  {
   "cell_type": "code",
   "execution_count": 143,
   "id": "5ad27a40",
   "metadata": {},
   "outputs": [],
   "source": [
    "class calculator:\n",
    "    \n",
    "    def __init__(self, operations,a,b):\n",
    "        self.operations = operations\n",
    "        self.a = a\n",
    "        self.b = b\n",
    "    \n",
    "    \n",
    "    def runcalc(a=0,b=0,operator='+'):\n",
    "        '''non-interactive version'''\n",
    "        operations = {\n",
    "            '*': lambda a, b: a * b,\n",
    "            '+': lambda a, b: a + b,\n",
    "            '-': lambda a, b: a - b,\n",
    "            '/': lambda a, b: a // b,\n",
    "            '^': lambda a, b: a ** b,\n",
    "            'sqrt': lambda a : math.sqrt(a)\n",
    "        }\n",
    "        if (operator == '/' and b == 0):\n",
    "            result = \"you cannot divide by zero\"\n",
    "        elif operator == 'sqrt':\n",
    "            result = operations[operator](a)\n",
    "        else:\n",
    "            result = operations[operator](a,b)\n",
    "        return result\n",
    "    "
   ]
  },
  {
   "cell_type": "code",
   "execution_count": 68,
   "id": "84572c45",
   "metadata": {},
   "outputs": [
    {
     "name": "stdout",
     "output_type": "stream",
     "text": [
      "please choose: +, - , *, /, ^,sqrt: /\n"
     ]
    }
   ],
   "source": [
    "operator = input(f\"please choose: +, - , *, /, ^,sqrt: \")\n"
   ]
  },
  {
   "cell_type": "code",
   "execution_count": 69,
   "id": "dbf879b1",
   "metadata": {},
   "outputs": [
    {
     "name": "stdout",
     "output_type": "stream",
     "text": [
      "first value =9\n"
     ]
    }
   ],
   "source": [
    "a = int(input(f\"first value = \"))"
   ]
  },
  {
   "cell_type": "code",
   "execution_count": 70,
   "id": "ede8ddf5",
   "metadata": {},
   "outputs": [
    {
     "name": "stdout",
     "output_type": "stream",
     "text": [
      "second value=0\n",
      "you cannot divide by zero\n",
      "second value=0\n",
      "you cannot divide by zero\n",
      "second value=0\n",
      "you cannot divide by zero\n",
      "second value=0\n",
      "you cannot divide by zero\n",
      "second value=3\n"
     ]
    }
   ],
   "source": [
    "if operator == \"sqrt\":\n",
    "    print(\"you don't need a second value\")\n",
    "else:\n",
    "    b = int(input(f\"second value = \"))\n",
    "    if (operator == '/' and b == 0):\n",
    "        while b == 0:\n",
    "            print(\"you cannot divide by zero\")\n",
    "            b = int(input(f\"second value = \"))"
   ]
  },
  {
   "cell_type": "code",
   "execution_count": 145,
   "id": "0c404b17",
   "metadata": {},
   "outputs": [
    {
     "name": "stdout",
     "output_type": "stream",
     "text": [
      "3\n"
     ]
    }
   ],
   "source": [
    "calculator.runcalc(a,b,operator)\n",
    "print(result)"
   ]
  },
  {
   "cell_type": "code",
   "execution_count": 144,
   "id": "70f94c02",
   "metadata": {},
   "outputs": [
    {
     "data": {
      "text/plain": [
       "2.0"
      ]
     },
     "execution_count": 144,
     "metadata": {},
     "output_type": "execute_result"
    }
   ],
   "source": [
    "calculator.runcalc(4,operator = 'sqrt')"
   ]
  },
  {
   "cell_type": "code",
   "execution_count": null,
   "id": "8f9b2458",
   "metadata": {},
   "outputs": [],
   "source": []
  },
  {
   "cell_type": "code",
   "execution_count": null,
   "id": "013c4277",
   "metadata": {},
   "outputs": [],
   "source": []
  }
 ],
 "metadata": {
  "kernelspec": {
   "display_name": "Python 3",
   "language": "python",
   "name": "python3"
  },
  "language_info": {
   "codemirror_mode": {
    "name": "ipython",
    "version": 3
   },
   "file_extension": ".py",
   "mimetype": "text/x-python",
   "name": "python",
   "nbconvert_exporter": "python",
   "pygments_lexer": "ipython3",
   "version": "3.8.5"
  }
 },
 "nbformat": 4,
 "nbformat_minor": 5
}
