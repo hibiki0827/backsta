{
 "cells": [
  {
   "cell_type": "markdown",
   "id": "78c402bb",
   "metadata": {},
   "source": [
    "## calculator\n",
    "\n",
    "Summerterm 2021\n"
   ]
  },
  {
   "cell_type": "markdown",
   "id": "571278e3",
   "metadata": {},
   "source": [
    "#### import"
   ]
  },
  {
   "cell_type": "code",
   "execution_count": 188,
   "id": "7bddf89a",
   "metadata": {},
   "outputs": [
    {
     "name": "stdout",
     "output_type": "stream",
     "text": [
      "import... \n",
      "\n",
      "done\n"
     ]
    }
   ],
   "source": [
    "print(\"import...\",\"\\n\")\n",
    "import math\n",
    "print(\"done\")\n"
   ]
  },
  {
   "cell_type": "markdown",
   "id": "d8439ef7",
   "metadata": {},
   "source": [
    "#### define class"
   ]
  },
  {
   "cell_type": "code",
   "execution_count": 198,
   "id": "e2f1d423",
   "metadata": {},
   "outputs": [],
   "source": [
    "class calculator:\n",
    "    \n",
    "    def __init__(self, operations,a,b):\n",
    "        self.operations = operations\n",
    "        self.a = a\n",
    "        self.b = b\n",
    "    \n",
    "    \n",
    "    def runcalc(a=0,b=0,operator='+'):\n",
    "        '''calculates with two operants and one operator'''\n",
    "        operations = {\n",
    "            '*': lambda a, b: a * b,\n",
    "            '+': lambda a, b: a + b,\n",
    "            '-': lambda a, b: a - b,\n",
    "            '/': lambda a, b: a // b,\n",
    "            '^': lambda a, b: a ** b,\n",
    "            'sqrt': lambda a : math.sqrt(a)\n",
    "        }\n",
    "        if (operator == '/' and b == 0):\n",
    "            result = \"you cannot divide by zero\"\n",
    "            return result\n",
    "        elif operator == 'sqrt':\n",
    "            result = operations['sqrt'](a)\n",
    "            return result\n",
    "        else:\n",
    "            result = operations[operator](a,b)\n",
    "        return result\n",
    "    "
   ]
  },
  {
   "cell_type": "markdown",
   "id": "93f9b860",
   "metadata": {},
   "source": [
    "#### interactive version"
   ]
  },
  {
   "cell_type": "code",
   "execution_count": 235,
   "id": "38812029",
   "metadata": {},
   "outputs": [
    {
     "name": "stdout",
     "output_type": "stream",
     "text": [
      "please choose: +, - , *, /, ^,sqrt: sqrt\n",
      "your choice:  sqrt\n"
     ]
    }
   ],
   "source": [
    "while True:\n",
    "    operator = str(input(f\"please choose: +, - , *, /, ^,sqrt: \"))\n",
    "    if operator=='+' or operator=='-'or operator=='*'or operator=='/'or operator=='^' or operator=='sqrt':\n",
    "        print(\"your choice: \", operator)\n",
    "        break\n",
    "    else:\n",
    "        print(\"invalid input, take care that you don't have any spaces\")\n",
    "        continue\n",
    "    \n"
   ]
  },
  {
   "cell_type": "code",
   "execution_count": 224,
   "id": "2d2ace7d",
   "metadata": {},
   "outputs": [
    {
     "name": "stdout",
     "output_type": "stream",
     "text": [
      "first value = 4\n"
     ]
    }
   ],
   "source": [
    "a = int(input(f\"first value = \"))"
   ]
  },
  {
   "cell_type": "code",
   "execution_count": 225,
   "id": "7a9e3ee7",
   "metadata": {},
   "outputs": [
    {
     "name": "stdout",
     "output_type": "stream",
     "text": [
      "you don't need a second value\n"
     ]
    }
   ],
   "source": [
    "if operator == \"sqrt\":\n",
    "    print(\"you don't need a second value\")\n",
    "    b = 0\n",
    "else:\n",
    "    b = int(input(f\"second value = \"))\n",
    "    if (operator == '/' and b == 0):\n",
    "        while b == 0:\n",
    "            print(\"you cannot divide by zero\")\n",
    "            b = int(input(f\"second value = \"))"
   ]
  },
  {
   "cell_type": "code",
   "execution_count": 229,
   "id": "3fe01c42",
   "metadata": {},
   "outputs": [
    {
     "name": "stdout",
     "output_type": "stream",
     "text": [
      "square root of  4  is:  2.0\n"
     ]
    }
   ],
   "source": [
    "result = calculator.runcalc(a,b,operator)\n",
    "\n",
    "print(\"square root of \",a,\" is: \", result) if operator =='sqrt' else print(a,\" \",operator, \" \", b, \" = \",result)"
   ]
  },
  {
   "cell_type": "markdown",
   "id": "43215417",
   "metadata": {},
   "source": [
    "#### or non-interactive"
   ]
  },
  {
   "cell_type": "code",
   "execution_count": 206,
   "id": "f9888244",
   "metadata": {},
   "outputs": [
    {
     "data": {
      "text/plain": [
       "4"
      ]
     },
     "execution_count": 206,
     "metadata": {},
     "output_type": "execute_result"
    }
   ],
   "source": [
    "calculator.runcalc(2,2,'*')"
   ]
  },
  {
   "cell_type": "code",
   "execution_count": null,
   "id": "4467515d",
   "metadata": {},
   "outputs": [],
   "source": []
  }
 ],
 "metadata": {
  "kernelspec": {
   "display_name": "Python 3",
   "language": "python",
   "name": "python3"
  },
  "language_info": {
   "codemirror_mode": {
    "name": "ipython",
    "version": 3
   },
   "file_extension": ".py",
   "mimetype": "text/x-python",
   "name": "python",
   "nbconvert_exporter": "python",
   "pygments_lexer": "ipython3",
   "version": "3.8.5"
  }
 },
 "nbformat": 4,
 "nbformat_minor": 5
}
